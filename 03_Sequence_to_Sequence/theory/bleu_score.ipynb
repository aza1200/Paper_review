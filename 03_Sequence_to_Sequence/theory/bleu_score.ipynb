{
 "cells": [
  {
   "cell_type": "code",
   "execution_count": 6,
   "metadata": {},
   "outputs": [
    {
     "name": "stdout",
     "output_type": "stream",
     "text": [
      "reference와의 오차: I ate blueberries\n",
      "candidate: I ate pizza\n",
      "패키지 NLTK의 BLEU: 1.133422688662942e-154\n",
      "\n",
      "candidate: I ate berries\n",
      "패키지 NLTK의 BLEU: 1.133422688662942e-154\n",
      "\n",
      "candidate: I ate Vaccinium_corymbosum\n",
      "패키지 NLTK의 BLEU: 1.133422688662942e-154\n",
      "\n"
     ]
    }
   ],
   "source": [
    "import nltk.translate.bleu_score as bleu\n",
    "\n",
    "candidate_list = [\n",
    "    'I ate pizza',\n",
    "    'I ate berries',\n",
    "    'I ate Vaccinium_corymbosum',\n",
    "]\n",
    "references = ['I ate blueberries']\n",
    "print(f\"reference와의 오차: {references[0]}\")\n",
    "for candidate in candidate_list:\n",
    "    print(f'candidate: {candidate}')\n",
    "    candidate_score = bleu.sentence_bleu(list(map(lambda ref: ref.split(), references)), candidate.split())\n",
    "    print(f'패키지 NLTK의 BLEU: {candidate_score}')\n",
    "    print()"
   ]
  },
  {
   "cell_type": "code",
   "execution_count": 2,
   "metadata": {},
   "outputs": [
    {
     "name": "stdout",
     "output_type": "stream",
     "text": [
      "패키지 NLTK의 BLEU : 1.133422688662942e-154\n"
     ]
    }
   ],
   "source": [
    "import nltk.translate.bleu_score as bleu\n",
    "\n",
    "candidate = \n",
    "references = [\n",
    "'I ate blueberries'\n",
    "]\n",
    "\n",
    "print('패키지 NLTK의 BLEU :',bleu.sentence_bleu(list(map(lambda ref: ref.split(), references)),candidate.split()))"
   ]
  },
  {
   "cell_type": "code",
   "execution_count": null,
   "metadata": {},
   "outputs": [],
   "source": [
    "import nltk.translate.bleu_score as bleu\n",
    "\n",
    "candidate = \n",
    "references = [\n",
    "'I ate blueberries'\n",
    "]\n",
    "\n",
    "print('패키지 NLTK의 BLEU :',bleu.sentence_bleu(list(map(lambda ref: ref.split(), references)),candidate.split()))"
   ]
  }
 ],
 "metadata": {
  "kernelspec": {
   "display_name": "Python 3.9.13 ('base')",
   "language": "python",
   "name": "python3"
  },
  "language_info": {
   "codemirror_mode": {
    "name": "ipython",
    "version": 3
   },
   "file_extension": ".py",
   "mimetype": "text/x-python",
   "name": "python",
   "nbconvert_exporter": "python",
   "pygments_lexer": "ipython3",
   "version": "3.9.13"
  },
  "orig_nbformat": 4,
  "vscode": {
   "interpreter": {
    "hash": "ad2bdc8ecc057115af97d19610ffacc2b4e99fae6737bb82f5d7fb13d2f2c186"
   }
  }
 },
 "nbformat": 4,
 "nbformat_minor": 2
}
