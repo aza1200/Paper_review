{
 "cells": [
  {
   "cell_type": "code",
   "execution_count": 1,
   "metadata": {},
   "outputs": [
    {
     "name": "stdout",
     "output_type": "stream",
     "text": [
      "tensor([2., 1., 3., 4.])\n"
     ]
    }
   ],
   "source": [
    "import torch\n",
    "\n",
    "# 입력값이 1인 벡터 생성\n",
    "x = torch.tensor([1.0])\n",
    "\n",
    "# 행렬곱으로 표현된 식을 행렬과 벡터의 곱으로 변환\n",
    "A = torch.tensor([[1.0, 0.0, 0.0, 0.0],\n",
    "                  [1.0, 1.0, 0.0, 0.0],\n",
    "                  [0.0, 0.0, 3.0, 0.0],\n",
    "                  [0.0, 0.0, 0.0, 4.0]])\n",
    "result = torch.matmul(x**torch.tensor([4, 3, 1, 0]), A)\n",
    "\n",
    "print(result)"
   ]
  },
  {
   "cell_type": "code",
   "execution_count": null,
   "metadata": {},
   "outputs": [],
   "source": []
  }
 ],
 "metadata": {
  "kernelspec": {
   "display_name": "Python 3.9.13 ('base')",
   "language": "python",
   "name": "python3"
  },
  "language_info": {
   "codemirror_mode": {
    "name": "ipython",
    "version": 3
   },
   "file_extension": ".py",
   "mimetype": "text/x-python",
   "name": "python",
   "nbconvert_exporter": "python",
   "pygments_lexer": "ipython3",
   "version": "3.9.13"
  },
  "orig_nbformat": 4,
  "vscode": {
   "interpreter": {
    "hash": "ad2bdc8ecc057115af97d19610ffacc2b4e99fae6737bb82f5d7fb13d2f2c186"
   }
  }
 },
 "nbformat": 4,
 "nbformat_minor": 2
}
