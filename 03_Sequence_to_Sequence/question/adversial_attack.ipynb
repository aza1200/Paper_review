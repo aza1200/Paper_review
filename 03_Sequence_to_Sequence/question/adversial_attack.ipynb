{
 "cells": [
  {
   "cell_type": "code",
   "execution_count": null,
   "metadata": {},
   "outputs": [],
   "source": [
    "# https://stats.stackexchange.com/questions/444923/activation-function-between-lstm-layers\n",
    "\n",
    "# https://stackoverflow.com/questions/24282121/why-use-tanh-for-activation-function-of-mlp"
   ]
  }
 ],
 "metadata": {
  "language_info": {
   "name": "python"
  },
  "orig_nbformat": 4
 },
 "nbformat": 4,
 "nbformat_minor": 2
}
